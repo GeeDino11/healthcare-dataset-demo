{
 "cells": [
  {
   "cell_type": "code",
   "execution_count": 1,
   "metadata": {},
   "outputs": [],
   "source": [
    "# Imports\n",
    "import os\n",
    "from dotenv import load_dotenv\n",
    "from snowflake.snowpark import Session\n",
    "import snowflake.snowpark.functions as F"
   ]
  },
  {
   "cell_type": "code",
   "execution_count": 2,
   "metadata": {},
   "outputs": [],
   "source": [
    "# Load environment variables\n",
    "load_dotenv()\n",
    "\n",
    "account=os.getenv('account')\n",
    "user= os.getenv('user')\n",
    "password=os.getenv('password')\n",
    "warehouse=os.getenv('warehouse')"
   ]
  },
  {
   "cell_type": "code",
   "execution_count": 3,
   "metadata": {},
   "outputs": [],
   "source": [
    "# Configuration for the Snowpark session\n",
    "connection_parameters = {\n",
    "    \"account\": os.getenv('account'),\n",
    "    \"user\": os.getenv('user'),\n",
    "    \"password\": os.getenv('password'),\n",
    "}"
   ]
  },
  {
   "cell_type": "code",
   "execution_count": 22,
   "metadata": {},
   "outputs": [],
   "source": [
    "# Initialize session\n",
    "session = Session.builder.configs(connection_parameters).create()\n",
    "\n",
    "# Snowpark DataFrame\n",
    "healthcare_data_df = session.table(\"HEALTHCARE_DATASET.PUBLIC.HEALTHCARE_DATASET\")"
   ]
  },
  {
   "cell_type": "code",
   "execution_count": 5,
   "metadata": {},
   "outputs": [
    {
     "name": "stdout",
     "output_type": "stream",
     "text": [
      "--------------------------------------------------------------------------------------------------------------------------------------------------------------------------------------------------------------------------------------------------------------------------\n",
      "|\"NAME\"         |\"AGE\"  |\"GENDER\"  |\"BLOODTYPE\"  |\"MEDICALCONDITION\"  |\"DATEOFADMISSION\"  |\"DOCTOR\"          |\"HOSPITAL\"                  |\"INSURANCEPROVIDER\"  |\"BILLINGAMOUNT\"       |\"ROOMNUMBER\"  |\"ADMISSIONTYPE\"  |\"DISCHARGEDATE\"  |\"MEDICATION\"  |\"TESTRESULTS\"  |\n",
      "--------------------------------------------------------------------------------------------------------------------------------------------------------------------------------------------------------------------------------------------------------------------------\n",
      "|Bobby JacksOn  |30     |Male      |B-           |Cancer              |2024-01-31         |Matthew Smith     |Sons and Miller             |Blue Cross           |18856.28130597815500  |328           |Urgent           |2024-02-02       |Paracetamol   |Normal         |\n",
      "|LesLie TErRy   |62     |Male      |A+           |Obesity             |2019-08-20         |Samantha Davies   |Kim Inc                     |Medicare             |33643.32728657788500  |265           |Emergency        |2019-08-26       |Ibuprofen     |Inconclusive   |\n",
      "|DaNnY sMitH    |76     |Female    |A-           |Obesity             |2022-09-22         |Tiffany Mitchell  |Cook PLC                    |Aetna                |27955.09607884245600  |205           |Emergency        |2022-10-07       |Aspirin       |Normal         |\n",
      "|andrEw waTtS   |28     |Female    |O+           |Diabetes            |2020-11-18         |Kevin Wells       |Hernandez Rogers and Vang,  |Medicare             |37909.78240987528000  |450           |Elective         |2020-12-18       |Ibuprofen     |Abnormal       |\n",
      "|adrIENNE bEll  |43     |Female    |AB+          |Cancer              |2022-09-19         |Kathleen Hanna    |White-White                 |Aetna                |14238.31781393762300  |458           |Urgent           |2022-10-09       |Penicillin    |Abnormal       |\n",
      "--------------------------------------------------------------------------------------------------------------------------------------------------------------------------------------------------------------------------------------------------------------------------\n",
      "\n"
     ]
    }
   ],
   "source": [
    "# View general structure of the dataset\n",
    "healthcare_data_df.limit(5).show()"
   ]
  },
  {
   "cell_type": "code",
   "execution_count": 6,
   "metadata": {},
   "outputs": [
    {
     "name": "stdout",
     "output_type": "stream",
     "text": [
      "---------------------------------------\n",
      "|\"NAME\"         |\"STANDARDIZED_NAME\"  |\n",
      "---------------------------------------\n",
      "|Bobby JacksOn  |Bobby Jackson        |\n",
      "|LesLie TErRy   |Leslie Terry         |\n",
      "|DaNnY sMitH    |Danny Smith          |\n",
      "|andrEw waTtS   |Andrew Watts         |\n",
      "|adrIENNE bEll  |Adrienne Bell        |\n",
      "---------------------------------------\n",
      "\n"
     ]
    }
   ],
   "source": [
    "# Standardize names to proper case\n",
    "standardized_names_df = healthcare_data_df.with_column(\"standardized_name\", F.initcap(\"NAME\"))\n",
    "standardized_names_df.select(\"NAME\", \"standardized_name\").show(5)"
   ]
  },
  {
   "cell_type": "code",
   "execution_count": 23,
   "metadata": {},
   "outputs": [],
   "source": [
    "# New DF with Standardize names\n",
    "healthcare_data_df = healthcare_data_df.with_column(\"standardized_name\", F.initcap(\"NAME\"))"
   ]
  },
  {
   "cell_type": "code",
   "execution_count": 8,
   "metadata": {},
   "outputs": [
    {
     "name": "stdout",
     "output_type": "stream",
     "text": [
      "--------------------------------\n",
      "|\"MEDICALCONDITION\"  |\"COUNT\"  |\n",
      "--------------------------------\n",
      "|Arthritis           |9308     |\n",
      "|Diabetes            |9304     |\n",
      "|Hypertension        |9245     |\n",
      "|Obesity             |9231     |\n",
      "|Cancer              |9227     |\n",
      "--------------------------------\n",
      "\n"
     ]
    }
   ],
   "source": [
    "top_conditions = healthcare_data_df.group_by('MEDICALCONDITION').count().order_by('count', ascending=False).limit(5)\n",
    "top_conditions.show()"
   ]
  },
  {
   "cell_type": "code",
   "execution_count": 9,
   "metadata": {},
   "outputs": [
    {
     "name": "stdout",
     "output_type": "stream",
     "text": [
      "------------------------------------------------------------------------------------\n",
      "|\"UNIQUE_BLOODTYPES\"  |\"UNIQUE_MEDICAL_CONDITIONS\"  |\"UNIQUE_INSURANCE_PROVIDERS\"  |\n",
      "------------------------------------------------------------------------------------\n",
      "|8                    |6                            |5                             |\n",
      "------------------------------------------------------------------------------------\n",
      "\n"
     ]
    }
   ],
   "source": [
    "# Unique counts for blood type, medical condition, and insurance provider\n",
    "unique_counts_df = healthcare_data_df.select(\n",
    "    F.count_distinct(\"BLOODTYPE\").alias(\"unique_bloodtypes\"),\n",
    "    F.count_distinct(\"MEDICALCONDITION\").alias(\"unique_medical_conditions\"),\n",
    "    F.count_distinct(\"INSURANCEPROVIDER\").alias(\"unique_insurance_providers\")\n",
    ")\n",
    "unique_counts_df.show()"
   ]
  },
  {
   "cell_type": "code",
   "execution_count": 10,
   "metadata": {},
   "outputs": [
    {
     "name": "stdout",
     "output_type": "stream",
     "text": [
      "-------------------------\n",
      "|\"AGE_GROUP\"  |\"COUNT\"  |\n",
      "-------------------------\n",
      "|10-19        |1693     |\n",
      "|20-29        |8000     |\n",
      "|30-39        |8179     |\n",
      "|40-49        |8130     |\n",
      "|50-59        |8350     |\n",
      "|60-69        |8177     |\n",
      "|70-79        |8072     |\n",
      "|80-89        |4899     |\n",
      "-------------------------\n",
      "\n"
     ]
    }
   ],
   "source": [
    "# Create a new column 'age_group' with age bins of 10 years\n",
    "healthcare_data_df = healthcare_data_df.with_column(\n",
    "    \"age_group\",\n",
    "    F.when((F.col(\"AGE\") >= 0) & (F.col(\"AGE\") <= 9), '0-9')\n",
    "    .when((F.col(\"AGE\") >= 10) & (F.col(\"AGE\") <= 19), '10-19')\n",
    "    .when((F.col(\"AGE\") >= 20) & (F.col(\"AGE\") <= 29), '20-29')\n",
    "    .when((F.col(\"AGE\") >= 30) & (F.col(\"AGE\") <= 39), '30-39')\n",
    "    .when((F.col(\"AGE\") >= 40) & (F.col(\"AGE\") <= 49), '40-49')\n",
    "    .when((F.col(\"AGE\") >= 50) & (F.col(\"AGE\") <= 59), '50-59')\n",
    "    .when((F.col(\"AGE\") >= 60) & (F.col(\"AGE\") <= 69), '60-69')\n",
    "    .when((F.col(\"AGE\") >= 70) & (F.col(\"AGE\") <= 79), '70-79')\n",
    "    .when((F.col(\"AGE\") >= 80) & (F.col(\"AGE\") <= 89), '80-89')\n",
    "    .when((F.col(\"AGE\") >= 90) & (F.col(\"AGE\") <= 99), '90-99')\n",
    "    .otherwise('100+')\n",
    ")\n",
    "\n",
    "# Group by age_group and count number of patients by group\n",
    "age_distribution = healthcare_data_df.group_by(\"age_group\").count().order_by(\"age_group\")\n",
    "age_distribution.show()\n"
   ]
  },
  {
   "cell_type": "code",
   "execution_count": 11,
   "metadata": {},
   "outputs": [
    {
     "name": "stdout",
     "output_type": "stream",
     "text": [
      "------------------------------------------------------------\n",
      "|\"INSURANCEPROVIDER\"  |\"ADMISSIONTYPE\"  |\"AVG_BILLING\"     |\n",
      "------------------------------------------------------------\n",
      "|Cigna                |Elective         |      $26,013.70  |\n",
      "|Aetna                |Urgent           |      $25,895.93  |\n",
      "|UnitedHealthcare     |Emergency        |      $25,740.17  |\n",
      "|Medicare             |Elective         |      $25,640.45  |\n",
      "|Blue Cross           |Urgent           |      $25,640.44  |\n",
      "|Blue Cross           |Elective         |      $25,628.97  |\n",
      "|Medicare             |Urgent           |      $25,611.55  |\n",
      "|Medicare             |Emergency        |      $25,596.09  |\n",
      "|Blue Cross           |Emergency        |      $25,568.70  |\n",
      "|Aetna                |Elective         |      $25,431.61  |\n",
      "------------------------------------------------------------\n",
      "\n"
     ]
    }
   ],
   "source": [
    "# Average billing by insurance provider and admission type\n",
    "avg_billing_df = healthcare_data_df.group_by(\"INSURANCEPROVIDER\", \"ADMISSIONTYPE\").agg(\n",
    "    F.to_char(F.avg(\"BILLINGAMOUNT\"), \"$999,999,999.00\").alias(\"avg_billing\")\n",
    ").sort(F.col(\"avg_billing\").desc())\n",
    "avg_billing_df.show()"
   ]
  },
  {
   "cell_type": "code",
   "execution_count": 12,
   "metadata": {},
   "outputs": [
    {
     "name": "stdout",
     "output_type": "stream",
     "text": [
      "------------------------------------------\n",
      "|\"INSURANCEPROVIDER\"  |\"TOTAL_BILLING\"   |\n",
      "------------------------------------------\n",
      "|Cigna                |      $11,249.00  |\n",
      "|Medicare             |      $11,154.00  |\n",
      "|UnitedHealthcare     |      $11,125.00  |\n",
      "|Blue Cross           |      $11,059.00  |\n",
      "|Aetna                |      $10,913.00  |\n",
      "------------------------------------------\n",
      "\n"
     ]
    }
   ],
   "source": [
    "# Sum billing amount by insurance provider\n",
    "total_billing_df = healthcare_data_df.group_by(\"INSURANCEPROVIDER\").agg(\n",
    "    F.to_char(F.count(\"BILLINGAMOUNT\"), '$999,999,999.00').alias(\"total_billing\")\n",
    ").sort(F.col(\"total_billing\").desc()).limit(5)\n",
    "total_billing_df.show()"
   ]
  },
  {
   "cell_type": "code",
   "execution_count": 13,
   "metadata": {},
   "outputs": [
    {
     "name": "stdout",
     "output_type": "stream",
     "text": [
      "--------------------------------------------------------------------------------------------------------------------------------------------------------------------------------------------------------------------------------------------------------------------------------------------------------------\n",
      "|\"NAME\"               |\"AGE\"  |\"GENDER\"  |\"BLOODTYPE\"  |\"MEDICALCONDITION\"  |\"DATEOFADMISSION\"  |\"DOCTOR\"               |\"HOSPITAL\"       |\"INSURANCEPROVIDER\"  |\"BILLINGAMOUNT\"       |\"ROOMNUMBER\"  |\"ADMISSIONTYPE\"  |\"DISCHARGEDATE\"  |\"MEDICATION\"  |\"TESTRESULTS\"  |\"STANDARDIZED_NAME\"  |\"AGE_GROUP\"  |\n",
      "--------------------------------------------------------------------------------------------------------------------------------------------------------------------------------------------------------------------------------------------------------------------------------------------------------------\n",
      "|Bobby JacksOn        |30     |Male      |B-           |Cancer              |2024-01-31         |Matthew Smith          |Sons and Miller  |Blue Cross           |18856.28130597815500  |328           |Urgent           |2024-02-02       |Paracetamol   |Normal         |Bobby Jackson        |30-39        |\n",
      "|SaRah ruiZ           |27     |Female    |B+           |Hypertension        |2019-08-04         |Lisa Guzman            |Sons and Miller  |Medicare             |17111.59243103755200  |237           |Elective         |2019-08-19       |Ibuprofen     |Abnormal       |Sarah Ruiz           |20-29        |\n",
      "|TINa FOster          |73     |Male      |B+           |Arthritis           |2021-08-12         |Christopher Henderson  |Sons and Miller  |Medicare             |19987.04762362137300  |392           |Elective         |2021-08-31       |Paracetamol   |Abnormal       |Tina Foster          |70-79        |\n",
      "|crySTal MillEr       |19     |Female    |B+           |Diabetes            |2021-11-08         |Peter Young            |Sons and Miller  |Aetna                |31055.69395636860300  |230           |Emergency        |2021-11-28       |Lipitor       |Normal         |Crystal Miller       |10-19        |\n",
      "|cHriSTian RODRIGuEz  |20     |Female    |A-           |Cancer              |2022-08-02         |Alex Banks             |Sons and Miller  |Blue Cross           |17554.96200314612400  |449           |Emergency        |2022-08-11       |Aspirin       |Normal         |Christian Rodriguez  |20-29        |\n",
      "--------------------------------------------------------------------------------------------------------------------------------------------------------------------------------------------------------------------------------------------------------------------------------------------------------------\n",
      "\n"
     ]
    }
   ],
   "source": [
    "# Drilling down to one hospital (Sons and Miller)\n",
    "sons_and_miller_df = healthcare_data_df.filter(F.col(\"HOSPITAL\") == 'Sons and Miller')\n",
    "sons_and_miller_df.show(5)"
   ]
  },
  {
   "cell_type": "code",
   "execution_count": 14,
   "metadata": {},
   "outputs": [
    {
     "name": "stdout",
     "output_type": "stream",
     "text": [
      "----------------------------------------\n",
      "|\"MEDICALCONDITION\"  |\"PATIENT_COUNT\"  |\n",
      "----------------------------------------\n",
      "|Arthritis           |3                |\n",
      "|Cancer              |2                |\n",
      "|Hypertension        |1                |\n",
      "|Diabetes            |1                |\n",
      "----------------------------------------\n",
      "\n"
     ]
    }
   ],
   "source": [
    "# Patient count by medical condition for Sons and Miller\n",
    "condition_count_df = sons_and_miller_df.group_by(\"MEDICALCONDITION\").agg(F.count(\"*\").alias(\"patient_count\")).sort(F.col(\"patient_count\").desc())\n",
    "condition_count_df.show()"
   ]
  },
  {
   "cell_type": "code",
   "execution_count": 15,
   "metadata": {},
   "outputs": [
    {
     "name": "stdout",
     "output_type": "stream",
     "text": [
      "---------------------------------------\n",
      "|\"ADMISSIONTYPE\"  |\"AVERAGE_BILLING\"  |\n",
      "---------------------------------------\n",
      "|Emergency        |      $22,500.99   |\n",
      "|Elective         |      $19,028.56   |\n",
      "|Urgent           |      $18,856.28   |\n",
      "---------------------------------------\n",
      "\n"
     ]
    }
   ],
   "source": [
    "# Average billing by admission type for Sons and Miller\n",
    "avg_billing_admission_df = sons_and_miller_df.group_by(\"ADMISSIONTYPE\").agg(\n",
    "    F.to_char(F.avg(\"BILLINGAMOUNT\"), \"$999,999,999.00\").alias(\"average_billing\")\n",
    ").sort(F.col(\"average_billing\").desc())\n",
    "avg_billing_admission_df.show()"
   ]
  },
  {
   "cell_type": "code",
   "execution_count": 16,
   "metadata": {},
   "outputs": [
    {
     "name": "stdout",
     "output_type": "stream",
     "text": [
      "---------------------------------\n",
      "|\"AGE_GROUP\"  |\"PATIENT_COUNT\"  |\n",
      "---------------------------------\n",
      "|19-35        |4                |\n",
      "|36-50        |1                |\n",
      "|65+          |2                |\n",
      "---------------------------------\n",
      "\n"
     ]
    }
   ],
   "source": [
    "# Distribution of patient count by age (in bins of 10 years) for Sons and Miller\n",
    "age_group_distribution_df = sons_and_miller_df.select(\n",
    "    F.when(F.col(\"AGE\").between(0, 18), \"0-18\")\n",
    "    .when(F.col(\"AGE\").between(19, 35), \"19-35\")\n",
    "    .when(F.col(\"AGE\").between(36, 50), \"36-50\")\n",
    "    .when(F.col(\"AGE\").between(51, 65), \"51-65\")\n",
    "    .otherwise(\"65+\")\n",
    "    .alias(\"age_group\")\n",
    ").group_by(\"age_group\").agg(F.count(\"*\").alias(\"patient_count\")).sort(\"age_group\")\n",
    "age_group_distribution_df.show()"
   ]
  },
  {
   "cell_type": "code",
   "execution_count": 17,
   "metadata": {},
   "outputs": [
    {
     "name": "stdout",
     "output_type": "stream",
     "text": [
      "-------------------------------------------\n",
      "|\"DOCTOR\"               |\"PATIENT_COUNT\"  |\n",
      "-------------------------------------------\n",
      "|Christopher Henderson  |2                |\n",
      "|Lisa Guzman            |1                |\n",
      "|Matthew Smith          |1                |\n",
      "|Peter Young            |1                |\n",
      "|Alex Banks             |1                |\n",
      "-------------------------------------------\n",
      "\n"
     ]
    }
   ],
   "source": [
    "# Top 5 doctors with highest patient count at Sons and Miller\n",
    "top_doctors_df = sons_and_miller_df.group_by(\"DOCTOR\").agg(F.count(\"*\").alias(\"patient_count\")).sort(F.col(\"patient_count\").desc()).limit(5)\n",
    "top_doctors_df.show()"
   ]
  },
  {
   "cell_type": "code",
   "execution_count": 18,
   "metadata": {},
   "outputs": [
    {
     "name": "stdout",
     "output_type": "stream",
     "text": [
      "-----------------------------------------------------\n",
      "|\"MEDICALCONDITION\"  |\"AVG_LENGTH_OF_STAY_IN_DAYS\"  |\n",
      "-----------------------------------------------------\n",
      "|Diabetes            |20                            |\n",
      "|Arthritis           |16                            |\n",
      "|Hypertension        |15                            |\n",
      "|Cancer              |5                             |\n",
      "-----------------------------------------------------\n",
      "\n"
     ]
    }
   ],
   "source": [
    "# Average length of stay by medical condition at Sons and Miller\n",
    "avg_length_stay_df = sons_and_miller_df.group_by(\"MEDICALCONDITION\").agg(\n",
    "    F.trunc(F.avg(F.col(\"DISCHARGEDATE\") - F.col(\"DATEOFADMISSION\"))).alias(\"avg_length_of_stay_in_days\")\n",
    ").sort(F.col(\"avg_length_of_stay_in_days\").desc())\n",
    "avg_length_stay_df.show()"
   ]
  },
  {
   "cell_type": "code",
   "execution_count": 19,
   "metadata": {},
   "outputs": [
    {
     "name": "stdout",
     "output_type": "stream",
     "text": [
      "---------------------------------------------\n",
      "|\"MEDICALCONDITION\"  |\"AVG_BILLING_AMOUNT\"  |\n",
      "---------------------------------------------\n",
      "|Diabetes            |      $31,055.69      |\n",
      "|Arthritis           |      $19,622.13      |\n",
      "|Cancer              |      $18,205.62      |\n",
      "|Hypertension        |      $17,111.59      |\n",
      "---------------------------------------------\n",
      "\n"
     ]
    }
   ],
   "source": [
    "# Average billing amount by medical condition at Sons and Miller\n",
    "avg_billing_condition_df = sons_and_miller_df.group_by(\"MEDICALCONDITION\").agg(\n",
    "    F.to_char(F.avg(\"BILLINGAMOUNT\"), '$999,999,999.00').alias(\"avg_billing_amount\")\n",
    ").sort(F.col(\"avg_billing_amount\").desc())\n",
    "avg_billing_condition_df.show()"
   ]
  },
  {
   "cell_type": "code",
   "execution_count": 20,
   "metadata": {},
   "outputs": [
    {
     "name": "stdout",
     "output_type": "stream",
     "text": [
      "------------------------------------------\n",
      "|\"INSURANCEPROVIDER\"  |\"TOTAL_BILLING\"   |\n",
      "------------------------------------------\n",
      "|Medicare             |           $3.00  |\n",
      "|Blue Cross           |           $2.00  |\n",
      "|Aetna                |           $1.00  |\n",
      "|UnitedHealthcare     |           $1.00  |\n",
      "------------------------------------------\n",
      "\n"
     ]
    }
   ],
   "source": [
    "# Sum billing amount by insurance provider at Sons and Miller\n",
    "total_billing_df = sons_and_miller_df.group_by(\"INSURANCEPROVIDER\").agg(\n",
    "    F.to_char(F.count(\"BILLINGAMOUNT\"), '$999,999,999.00').alias(\"total_billing\")\n",
    ").sort(F.col(\"total_billing\").desc()).limit(5)\n",
    "total_billing_df.show()"
   ]
  },
  {
   "cell_type": "code",
   "execution_count": 21,
   "metadata": {},
   "outputs": [
    {
     "name": "stdout",
     "output_type": "stream",
     "text": [
      "-----------------------------\n",
      "|\"AGE_BILLING_CORRELATION\"  |\n",
      "-----------------------------\n",
      "|-0.19975700313866945       |\n",
      "-----------------------------\n",
      "\n"
     ]
    }
   ],
   "source": [
    "# Correlation between age and billing amount at Sons and Miller\n",
    "age_billing_corr_df = sons_and_miller_df.select(F.corr(\"AGE\", \"BILLINGAMOUNT\").alias(\"age_billing_correlation\"))\n",
    "age_billing_corr_df.show()"
   ]
  },
  {
   "cell_type": "code",
   "execution_count": null,
   "metadata": {},
   "outputs": [],
   "source": []
  },
  {
   "cell_type": "code",
   "execution_count": null,
   "metadata": {},
   "outputs": [],
   "source": []
  }
 ],
 "metadata": {
  "kernelspec": {
   "display_name": "Python 3",
   "language": "python",
   "name": "python3"
  },
  "language_info": {
   "codemirror_mode": {
    "name": "ipython",
    "version": 3
   },
   "file_extension": ".py",
   "mimetype": "text/x-python",
   "name": "python",
   "nbconvert_exporter": "python",
   "pygments_lexer": "ipython3",
   "version": "3.11.6"
  }
 },
 "nbformat": 4,
 "nbformat_minor": 2
}
